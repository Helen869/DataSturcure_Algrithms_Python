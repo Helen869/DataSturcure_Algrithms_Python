{
  "nbformat": 4,
  "nbformat_minor": 0,
  "metadata": {
    "colab": {
      "provenance": [],
      "authorship_tag": "ABX9TyOyiCaUWqCkFwAUzjhkpqHG"
    },
    "kernelspec": {
      "name": "python3",
      "display_name": "Python 3"
    },
    "language_info": {
      "name": "python"
    }
  },
  "cells": [
    {
      "cell_type": "code",
      "execution_count": 18,
      "metadata": {
        "colab": {
          "base_uri": "https://localhost:8080/"
        },
        "id": "wckQlBScA8z2",
        "outputId": "6fec9fbd-68f1-477b-f673-49e46fb2c036"
      },
      "outputs": [
        {
          "output_type": "stream",
          "name": "stdout",
          "text": [
            "False\n"
          ]
        }
      ],
      "source": [
        "#An arry is monotonic if it is either monotone increasing monotone decresing.\n",
        "# An array is monotone  increasing if all elem from let to righ are non-decresing\n",
        "# An array is monotone  decreasing if all elem from let to righ are non-incresing\n",
        "#Given an int array return true if the array is monotonic, for false otherwise\n",
        "#TRUE EXAMPLE: [3,3,2,1],[1,1,2,3],[],[7],[3,3,3]\n",
        "#FALSE EXAMPLE: [2,2,3,1]\n",
        "def monotic_array(array):\n",
        "  if len(array) == 0:\n",
        "     return True\n",
        "  first_ele = array[0]\n",
        "  last_ele = array[len(array)-1]\n",
        "  if first_ele > last_ele: #no-decreasing\n",
        "    for i in range(len(array)-1):\n",
        "        if array[i] < array[i+1]:\n",
        "           return False\n",
        "  elif first_ele == last_ele:\n",
        "       for i in range(len(array)-1):\n",
        "           if array[i] != array[i+1]:\n",
        "              return False\n",
        "  else:#no-increasing\n",
        "    for i in range(len(array)-1):\n",
        "        if array[i] > array[i+1]:\n",
        "           return False\n",
        "  return True\n",
        "\n",
        "array = [1,1,2,1]   \n",
        "print(monotic_array(array))        "
      ]
    }
  ]
}