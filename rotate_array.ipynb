{
  "nbformat": 4,
  "nbformat_minor": 0,
  "metadata": {
    "colab": {
      "provenance": [],
      "authorship_tag": "ABX9TyPBd3OVt4Tq6PM7P+JVPBQR",
      "include_colab_link": true
    },
    "kernelspec": {
      "name": "python3",
      "display_name": "Python 3"
    },
    "language_info": {
      "name": "python"
    }
  },
  "cells": [
    {
      "cell_type": "markdown",
      "metadata": {
        "id": "view-in-github",
        "colab_type": "text"
      },
      "source": [
        "<a href=\"https://colab.research.google.com/github/Helen869/DataSturcure_Algrithms_Python/blob/main/rotate_array.ipynb\" target=\"_parent\"><img src=\"https://colab.research.google.com/assets/colab-badge.svg\" alt=\"Open In Colab\"/></a>"
      ]
    },
    {
      "cell_type": "code",
      "execution_count": 6,
      "metadata": {
        "colab": {
          "base_uri": "https://localhost:8080/"
        },
        "id": "V0LFrq_d9gRA",
        "outputId": "13d13af3-b966-4d95-fd90-994326cc792f"
      },
      "outputs": [
        {
          "output_type": "stream",
          "name": "stdout",
          "text": [
            "[2, 3, 4, 5, 1]\n",
            "[2, 3, 4, 5, 1]\n"
          ]
        }
      ],
      "source": [
        "#T=0(n),S=o(k)\n",
        "def rotate_array(array,k):\n",
        "    if len(array) == 0: return []\n",
        "    k=k%len(array)\n",
        "    tmp = array[-k:]\n",
        "    for i in range(0,len(array)-k):\n",
        "        array[i+k]=array[i]\n",
        "    for i in range(len(tmp)):\n",
        "        array[i]=tmp[i]\n",
        "    return array\n",
        "\n",
        "#T=0(n),S=O(1)\n",
        "def reverse(array,start,end):\n",
        "    while(start<end):\n",
        "       array[start],array[end] = array[end],array[start]\n",
        "       start +=1\n",
        "       end -=1\n",
        "  \n",
        "def rotate_array_r(array,k):\n",
        "    if len(array) == 0: return []\n",
        "    reverse(array,0,len(array)-1)\n",
        "    reverse(array,0,k-1)\n",
        "    reverse(array,k,len(array)-1)\n",
        "    return array\n",
        "\n",
        "print(rotate_array([1,2,3,4,5],4))\n",
        "print(rotate_array_r([1,2,3,4,5],4))    "
      ]
    }
  ]
}