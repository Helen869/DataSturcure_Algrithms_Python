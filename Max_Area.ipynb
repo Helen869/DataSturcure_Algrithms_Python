{
  "nbformat": 4,
  "nbformat_minor": 0,
  "metadata": {
    "colab": {
      "provenance": [],
      "authorship_tag": "ABX9TyNAGULzFDkTzqh+GKznrVqw",
      "include_colab_link": true
    },
    "kernelspec": {
      "name": "python3",
      "display_name": "Python 3"
    },
    "language_info": {
      "name": "python"
    }
  },
  "cells": [
    {
      "cell_type": "markdown",
      "metadata": {
        "id": "view-in-github",
        "colab_type": "text"
      },
      "source": [
        "<a href=\"https://colab.research.google.com/github/Helen869/DataSturcure_Algrithms_Python/blob/main/Max_Area.ipynb\" target=\"_parent\"><img src=\"https://colab.research.google.com/assets/colab-badge.svg\" alt=\"Open In Colab\"/></a>"
      ]
    },
    {
      "cell_type": "code",
      "execution_count": 3,
      "metadata": {
        "colab": {
          "base_uri": "https://localhost:8080/"
        },
        "id": "OIdBopTWgheN",
        "outputId": "dd086e45-de0b-4214-e5c7-c0f1203e715a"
      },
      "outputs": [
        {
          "output_type": "stream",
          "name": "stdout",
          "text": [
            "21\n"
          ]
        }
      ],
      "source": [
        "#T=O(n^2) S=O(1)\n",
        "def brute_max_area(array):\n",
        "    max_area = 0\n",
        "    for i in range(len(array) -1):\n",
        "        for j in range((i+1), len(array)):  \n",
        "            area = min(array[i],array[j])*(j-i)\n",
        "            max_area = max(max_area,area)\n",
        "    return max_area\n",
        "\n",
        "#T=O(n) S=O(1)\n",
        "def max_area(array):\n",
        "    max_area = 0\n",
        "    left = 0\n",
        "    right = len(array) -1\n",
        "    while (left < right):\n",
        "        area = min(array[left],array[right])*(right-left)\n",
        "        max_area = max(area, max_area)\n",
        "        if array[left] < array[right]:\n",
        "            left +=1\n",
        "        else:\n",
        "            right -=1\n",
        "    return  max_area      \n",
        "\n",
        "print(max_area([3,7,5,6,8,4]))    "
      ]
    }
  ]
}