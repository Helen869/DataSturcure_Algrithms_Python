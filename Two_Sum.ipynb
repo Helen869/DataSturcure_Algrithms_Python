{
  "nbformat": 4,
  "nbformat_minor": 0,
  "metadata": {
    "colab": {
      "provenance": [],
      "authorship_tag": "ABX9TyPHtJhJ1yCIhX5GLo5MABE2",
      "include_colab_link": true
    },
    "kernelspec": {
      "name": "python3",
      "display_name": "Python 3"
    },
    "language_info": {
      "name": "python"
    }
  },
  "cells": [
    {
      "cell_type": "markdown",
      "metadata": {
        "id": "view-in-github",
        "colab_type": "text"
      },
      "source": [
        "<a href=\"https://colab.research.google.com/github/Helen869/DataSturcure_Algrithms_Python/blob/main/Two_Sum.ipynb\" target=\"_parent\"><img src=\"https://colab.research.google.com/assets/colab-badge.svg\" alt=\"Open In Colab\"/></a>"
      ]
    },
    {
      "cell_type": "code",
      "execution_count": 4,
      "metadata": {
        "colab": {
          "base_uri": "https://localhost:8080/"
        },
        "id": "oq5JpVcttJlD",
        "outputId": "d2fd15cd-244e-47df-8394-f80d11f9a542"
      },
      "outputs": [
        {
          "output_type": "stream",
          "name": "stdout",
          "text": [
            "[1, 4]\n",
            "[4, 1]\n"
          ]
        }
      ],
      "source": [
        "#Brute Force T=O(n^2) S=O(1)\n",
        "def brt_twosum(array,targetValue):\n",
        "    for left in range(len(array)-1):\n",
        "        for right in range(left+1,len(array)):\n",
        "            if targetValue == array[left] + array[right]:\n",
        "                return [left,right]\n",
        "    return\n",
        "\n",
        "#Opt  T=O(n) S=O(1)\n",
        "def two_sum_optimal(array,targetValue):\n",
        "    num_dic = {}\n",
        "    for i in range(len(array)):\n",
        "      need_val = targetValue - array[i]\n",
        "      if need_val in num_dic:\n",
        "          return[i,num_dic[need_val]]\n",
        "      else:\n",
        "          num_dic[array[i]]= i\n",
        "    return\n",
        "\n",
        "      \n",
        "array = [1,3,5,6,7,4]\n",
        "TV =10\n",
        "print(brt_twosum(array,TV))    \n",
        "print(two_sum_optimal(array,TV))   "
      ]
    }
  ]
}