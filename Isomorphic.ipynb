{
  "nbformat": 4,
  "nbformat_minor": 0,
  "metadata": {
    "colab": {
      "provenance": [],
      "collapsed_sections": [],
      "authorship_tag": "ABX9TyP0367AdIf5q8Ij0ScQWxD6",
      "include_colab_link": true
    },
    "kernelspec": {
      "name": "python3",
      "display_name": "Python 3"
    },
    "language_info": {
      "name": "python"
    }
  },
  "cells": [
    {
      "cell_type": "markdown",
      "metadata": {
        "id": "view-in-github",
        "colab_type": "text"
      },
      "source": [
        "<a href=\"https://colab.research.google.com/github/Helen869/DataSturcure_Algrithms_Python/blob/main/Isomorphic.ipynb\" target=\"_parent\"><img src=\"https://colab.research.google.com/assets/colab-badge.svg\" alt=\"Open In Colab\"/></a>"
      ]
    },
    {
      "cell_type": "code",
      "execution_count": 12,
      "metadata": {
        "colab": {
          "base_uri": "https://localhost:8080/"
        },
        "id": "iiRDlmStmqqM",
        "outputId": "8ebcd176-d3b4-4f80-b8a7-58477c719ea0"
      },
      "outputs": [
        {
          "output_type": "stream",
          "name": "stdout",
          "text": [
            "False\n"
          ]
        }
      ],
      "source": [
        "#T=O(n) S=O(1)?\n",
        "def isomorphic_strings(s,t):\n",
        "    if len(t) != len(s):\n",
        "        return False\n",
        "    sHash,tHash={},{}\n",
        "    for i in range(len(s)):\n",
        "         s_char = s[i]\n",
        "         t_char = t[i]\n",
        "         if s_char not in sHash:\n",
        "            sHash[s_char] = t_char\n",
        "         if t_char not in tHash:\n",
        "            tHash[t_char] = s_char\n",
        "         if sHash[s_char] != t_char or tHash[t_char] != s_char:\n",
        "            return False\n",
        "    return True\n",
        "\n",
        "s=\"a,b,c,d,z\"\n",
        "t=\"e,f,g,h,h\"\n",
        "print(isomorphic_strings(s,t))\n",
        "          "
      ]
    }
  ]
}