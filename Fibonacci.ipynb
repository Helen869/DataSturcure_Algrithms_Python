{
  "nbformat": 4,
  "nbformat_minor": 0,
  "metadata": {
    "colab": {
      "provenance": [],
      "authorship_tag": "ABX9TyOq9MLe1aNJEzHdv8FbdLk4",
      "include_colab_link": true
    },
    "kernelspec": {
      "name": "python3",
      "display_name": "Python 3"
    },
    "language_info": {
      "name": "python"
    }
  },
  "cells": [
    {
      "cell_type": "markdown",
      "metadata": {
        "id": "view-in-github",
        "colab_type": "text"
      },
      "source": [
        "<a href=\"https://colab.research.google.com/github/Helen869/DataSturcure_Algrithms_Python/blob/main/Fibonacci.ipynb\" target=\"_parent\"><img src=\"https://colab.research.google.com/assets/colab-badge.svg\" alt=\"Open In Colab\"/></a>"
      ]
    },
    {
      "cell_type": "code",
      "execution_count": 12,
      "metadata": {
        "colab": {
          "base_uri": "https://localhost:8080/"
        },
        "id": "jTuy4HPGgnri",
        "outputId": "81419806-5577-452a-df72-68e4e8d4e15c"
      },
      "outputs": [
        {
          "output_type": "stream",
          "name": "stdout",
          "text": [
            "3\n",
            "21\n",
            "1\n"
          ]
        }
      ],
      "source": [
        "#T=O(2^n) S=O(n)\n",
        "def fibonacci(n):\n",
        "    if n<=1 : return n\n",
        "    else: return fibonacci(n-1) + fibonacci(n-2)\n",
        "\n",
        "#T=O(n) S=O(n)\n",
        "def fibonacci_2(n,ht={0:1,1:1}):\n",
        "    if n in ht : return ht[n]\n",
        "    else:\n",
        "      ht[n] = fibonacci_2(n-1,ht) + fibonacci_2(n-2,ht) \n",
        "      return ht[n]\n",
        "\n",
        "#T=O(n) S=O(1) Iterative method\n",
        "def fibonacci_3(n):\n",
        "    if n<=1 : return n\n",
        "    else:\n",
        "        current_fib = 1\n",
        "        previous_fib = 1\n",
        "        preprevious_fib = 0\n",
        "        count = 0\n",
        "        while count  < n:\n",
        "            current_fib = previous_fib + preprevious_fib\n",
        "            preprevious_fib = previous_fib\n",
        "            previous_fib = current_fib\n",
        "            count += 1\n",
        "    return current_fib\n",
        "\n",
        "print(fibonacci(4))    \n",
        "print(fibonacci_2(7))   \n",
        "print(fibonacci_3(7))     "
      ]
    }
  ]
}